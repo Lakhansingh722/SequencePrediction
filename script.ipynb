{
 "cells": [
  {
   "cell_type": "code",
   "execution_count": 1,
   "metadata": {},
   "outputs": [],
   "source": [
    "from CPT import *"
   ]
  },
  {
   "cell_type": "code",
   "execution_count": 2,
   "metadata": {},
   "outputs": [],
   "source": [
    "model = CPT()\n",
    "data, target = model.load_files(\"./data/train.csv\", \"./data/test.csv\")"
   ]
  },
  {
   "cell_type": "code",
   "execution_count": 3,
   "metadata": {},
   "outputs": [
    {
     "data": {
      "text/plain": [
       "True"
      ]
     },
     "execution_count": 3,
     "metadata": {},
     "output_type": "execute_result"
    }
   ],
   "source": [
    "model.train(data)"
   ]
  },
  {
   "cell_type": "code",
   "execution_count": 16,
   "metadata": {},
   "outputs": [
    {
     "name": "stderr",
     "output_type": "stream",
     "text": [
      "100%|██████████| 3/3 [00:04<00:00,  1.55s/it]\n"
     ]
    }
   ],
   "source": [
    "predictions = model.predict(data,[['1', '2', 3, 4, 5], [6, 7, 8, 9], [1, 2, 3, 4, 5]],6,2)"
   ]
  },
  {
   "cell_type": "code",
   "execution_count": 12,
   "metadata": {},
   "outputs": [],
   "source": [
    "import random"
   ]
  },
  {
   "cell_type": "code",
   "execution_count": 27,
   "metadata": {},
   "outputs": [],
   "source": [
    "tar = [random.randint(2000, 3000) for i in range(50)]"
   ]
  },
  {
   "cell_type": "code",
   "execution_count": 32,
   "metadata": {},
   "outputs": [
    {
     "data": {
      "text/plain": [
       "[[23855, 23933, 24917, 24915, 23714, 23663, 24958, 25135, 25727, 24530],\n",
       " [23663, 23855, 24917, 23933, 23975, 23714, 25135, 24915, 24958, 23781],\n",
       " [26939, 26940, 26941, 26942, 26943, 26944, 26945, 26947, 26948, 26954],\n",
       " [23663, 23855, 23975, 23714, 23848, 23933, 25135, 23781, 24530, 23667],\n",
       " [23855, 23975, 25135, 23848, 23714, 24917, 23929, 25733, 25126, 23913],\n",
       " [23714, 23855, 23933, 25126, 23663, 25135, 24530, 23975, 24527, 23648],\n",
       " [23663, 23933, 24917, 24958, 23648, 23714, 23781, 23975, 24915, 24530],\n",
       " [26157, 26158, 26159, 26160, 26161, 26162, 26164, 26165, 26163, 26166],\n",
       " [23855, 24917, 24958, 23836, 24915, 23933, 23663, 23714, 23975, 24261],\n",
       " [26157, 26158, 26160, 26161, 26162, 26164, 26165, 26163, 26166, 26167]]"
      ]
     },
     "execution_count": 32,
     "metadata": {},
     "output_type": "execute_result"
    }
   ],
   "source": [
    "target[:10]"
   ]
  },
  {
   "cell_type": "code",
   "execution_count": 44,
   "metadata": {},
   "outputs": [
    {
     "name": "stderr",
     "output_type": "stream",
     "text": [
      "100%|██████████| 1/1 [00:00<00:00, 50.00it/s]\n"
     ]
    },
    {
     "data": {
      "text/plain": [
       "[[25135, 23663, 24958, 23880, 23933, 25126, 26052, 23999, 23691, 26051]]"
      ]
     },
     "execution_count": 44,
     "metadata": {},
     "output_type": "execute_result"
    }
   ],
   "source": [
    "model.predict(data,[[23855, 23, 24917, 42, 23714, 43, 24530, 12, 25727, 89,23714, 43, 24530]],6,10)"
   ]
  },
  {
   "cell_type": "code",
   "execution_count": 42,
   "metadata": {},
   "outputs": [
    {
     "data": {
      "text/plain": [
       "[[], [], []]"
      ]
     },
     "execution_count": 42,
     "metadata": {},
     "output_type": "execute_result"
    }
   ],
   "source": [
    "predictions"
   ]
  },
  {
   "cell_type": "code",
   "execution_count": 26,
   "metadata": {},
   "outputs": [
    {
     "data": {
      "text/plain": [
       "[[23663, 23933, 24917, 24958, 23648, 23714, 23781, 23975, 24915, 24530],\n",
       " [26157, 26158, 26159, 26160, 26161, 26162, 26164, 26165, 26163, 26166],\n",
       " [23855, 24917, 24958, 23836, 24915, 23933, 23663, 23714, 23975, 24261],\n",
       " [26157, 26158, 26160, 26161, 26162, 26164, 26165, 26163, 26166, 26167]]"
      ]
     },
     "execution_count": 26,
     "metadata": {},
     "output_type": "execute_result"
    }
   ],
   "source": [
    "target[6:10]"
   ]
  },
  {
   "cell_type": "code",
   "execution_count": null,
   "metadata": {},
   "outputs": [],
   "source": []
  }
 ],
 "metadata": {
  "interpreter": {
   "hash": "ad2bdc8ecc057115af97d19610ffacc2b4e99fae6737bb82f5d7fb13d2f2c186"
  },
  "kernelspec": {
   "display_name": "Python 3.8.8 ('base')",
   "language": "python",
   "name": "python3"
  },
  "language_info": {
   "codemirror_mode": {
    "name": "ipython",
    "version": 3
   },
   "file_extension": ".py",
   "mimetype": "text/x-python",
   "name": "python",
   "nbconvert_exporter": "python",
   "pygments_lexer": "ipython3",
   "version": "3.8.8"
  },
  "orig_nbformat": 4
 },
 "nbformat": 4,
 "nbformat_minor": 2
}
