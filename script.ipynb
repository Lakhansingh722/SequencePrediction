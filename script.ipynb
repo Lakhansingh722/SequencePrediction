{
 "cells": [
  {
   "cell_type": "code",
   "execution_count": 1,
   "metadata": {},
   "outputs": [],
   "source": [
    "from CPT import *"
   ]
  },
  {
   "cell_type": "code",
   "execution_count": 2,
   "metadata": {},
   "outputs": [],
   "source": [
    "model = CPT()\n",
    "data, target = model.load_files(\"./data/train.csv\", \"./data/test.csv\")"
   ]
  },
  {
   "cell_type": "code",
   "execution_count": 3,
   "metadata": {},
   "outputs": [
    {
     "data": {
      "text/plain": [
       "True"
      ]
     },
     "execution_count": 3,
     "metadata": {},
     "output_type": "execute_result"
    }
   ],
   "source": [
    "model.train(data)"
   ]
  },
  {
   "cell_type": "code",
   "execution_count": 4,
   "metadata": {},
   "outputs": [
    {
     "name": "stderr",
     "output_type": "stream",
     "text": [
      "100%|██████████| 3/3 [00:02<00:00,  1.27it/s]\n"
     ]
    }
   ],
   "source": [
    "predictions = model.predict(data,[['1', '2', 3, 4, 5], [6, 7, 8, 9], [1, 2, 3, 4, 5]],6,2)"
   ]
  },
  {
   "cell_type": "code",
   "execution_count": 5,
   "metadata": {},
   "outputs": [],
   "source": [
    "import random"
   ]
  },
  {
   "cell_type": "code",
   "execution_count": 6,
   "metadata": {},
   "outputs": [],
   "source": [
    "tar = [random.randint(2000, 3000) for i in range(50)]"
   ]
  },
  {
   "cell_type": "code",
   "execution_count": 7,
   "metadata": {},
   "outputs": [
    {
     "data": {
      "text/plain": [
       "[[23855, 23933, 24917, 24915, 23714, 23663, 24958, 25135, 25727, 24530],\n",
       " [23663, 23855, 24917, 23933, 23975, 23714, 25135, 24915, 24958, 23781],\n",
       " [26939, 26940, 26941, 26942, 26943, 26944, 26945, 26947, 26948, 26954],\n",
       " [23663, 23855, 23975, 23714, 23848, 23933, 25135, 23781, 24530, 23667],\n",
       " [23855, 23975, 25135, 23848, 23714, 24917, 23929, 25733, 25126, 23913],\n",
       " [23714, 23855, 23933, 25126, 23663, 25135, 24530, 23975, 24527, 23648],\n",
       " [23663, 23933, 24917, 24958, 23648, 23714, 23781, 23975, 24915, 24530],\n",
       " [26157, 26158, 26159, 26160, 26161, 26162, 26164, 26165, 26163, 26166],\n",
       " [23855, 24917, 24958, 23836, 24915, 23933, 23663, 23714, 23975, 24261],\n",
       " [26157, 26158, 26160, 26161, 26162, 26164, 26165, 26163, 26166, 26167]]"
      ]
     },
     "execution_count": 7,
     "metadata": {},
     "output_type": "execute_result"
    }
   ],
   "source": [
    "target[:10]"
   ]
  },
  {
   "cell_type": "code",
   "execution_count": 8,
   "metadata": {},
   "outputs": [
    {
     "name": "stderr",
     "output_type": "stream",
     "text": [
      "100%|██████████| 1/1 [00:00<00:00, 125.09it/s]\n"
     ]
    },
    {
     "data": {
      "text/plain": [
       "[[25135, 23663, 24958, 23880, 23933, 25126, 26052, 23999, 23691, 26051]]"
      ]
     },
     "execution_count": 8,
     "metadata": {},
     "output_type": "execute_result"
    }
   ],
   "source": [
    "model.predict(data,[[23855, 23, 24917, 42, 23714, 43, 24530, 12, 25727, 89,23714, 43, 24530]],6,10)"
   ]
  },
  {
   "cell_type": "code",
   "execution_count": 9,
   "metadata": {},
   "outputs": [
    {
     "data": {
      "text/plain": [
       "[[], [], []]"
      ]
     },
     "execution_count": 9,
     "metadata": {},
     "output_type": "execute_result"
    }
   ],
   "source": [
    "predictions"
   ]
  },
  {
   "cell_type": "code",
   "execution_count": 10,
   "metadata": {},
   "outputs": [
    {
     "data": {
      "text/plain": [
       "[[23663, 23933, 24917, 24958, 23648, 23714, 23781, 23975, 24915, 24530],\n",
       " [26157, 26158, 26159, 26160, 26161, 26162, 26164, 26165, 26163, 26166],\n",
       " [23855, 24917, 24958, 23836, 24915, 23933, 23663, 23714, 23975, 24261],\n",
       " [26157, 26158, 26160, 26161, 26162, 26164, 26165, 26163, 26166, 26167]]"
      ]
     },
     "execution_count": 10,
     "metadata": {},
     "output_type": "execute_result"
    }
   ],
   "source": [
    "target[6:10]"
   ]
  },
  {
   "cell_type": "code",
   "execution_count": 2,
   "metadata": {},
   "outputs": [],
   "source": [
    "import random"
   ]
  },
  {
   "cell_type": "code",
   "execution_count": 3,
   "metadata": {},
   "outputs": [],
   "source": [
    "targ = [23663, 23933, 24917, 24958, 23648, 23714, 23781, 23975, 24915, 24530]"
   ]
  },
  {
   "cell_type": "code",
   "execution_count": 4,
   "metadata": {},
   "outputs": [
    {
     "data": {
      "text/plain": [
       "24958"
      ]
     },
     "execution_count": 4,
     "metadata": {},
     "output_type": "execute_result"
    }
   ],
   "source": [
    "max(targ)"
   ]
  },
  {
   "cell_type": "code",
   "execution_count": 7,
   "metadata": {},
   "outputs": [
    {
     "data": {
      "text/plain": [
       "[24555, 24794, 24533, 24039, 24230]"
      ]
     },
     "execution_count": 7,
     "metadata": {},
     "output_type": "execute_result"
    }
   ],
   "source": [
    "[random.randint(min(targ), max(targ)) for i in range(5)]"
   ]
  },
  {
   "cell_type": "code",
   "execution_count": null,
   "metadata": {},
   "outputs": [],
   "source": []
  }
 ],
 "metadata": {
  "kernelspec": {
   "display_name": "Python 3.10.1 64-bit",
   "language": "python",
   "name": "python3"
  },
  "language_info": {
   "codemirror_mode": {
    "name": "ipython",
    "version": 3
   },
   "file_extension": ".py",
   "mimetype": "text/x-python",
   "name": "python",
   "nbconvert_exporter": "python",
   "pygments_lexer": "ipython3",
   "version": "3.10.1"
  },
  "orig_nbformat": 4,
  "vscode": {
   "interpreter": {
    "hash": "e33dda8a4d12c9c36a233218a905238da2bb40652a11ab3365bb0fe0ea2bff9b"
   }
  }
 },
 "nbformat": 4,
 "nbformat_minor": 2
}
